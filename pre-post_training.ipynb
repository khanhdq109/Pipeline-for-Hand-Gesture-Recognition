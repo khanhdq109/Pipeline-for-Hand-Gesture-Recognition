{
 "cells": [
  {
   "cell_type": "markdown",
   "id": "79521f59",
   "metadata": {},
   "source": [
    "# Import libraries"
   ]
  },
  {
   "cell_type": "code",
   "execution_count": null,
   "id": "a16daaa6",
   "metadata": {},
   "outputs": [],
   "source": [
    "import pandas as pd\n",
    "import matplotlib.pyplot as plt\n",
    "\n",
    "import torch\n",
    "from torch.utils.data import DataLoader\n",
    "from torchvision import transforms\n",
    "\n",
    "from data_loader import JesterV1\n",
    "from network.R3D import R3D\n",
    "\n",
    "import warnings\n",
    "warnings.filterwarnings('ignore', message = 'The default value of the antialias parameter of all the resizing transforms*')"
   ]
  },
  {
   "cell_type": "code",
   "execution_count": null,
   "id": "0d3849f5",
   "metadata": {},
   "outputs": [],
   "source": [
    "# Check for GPU availability\n",
    "if torch.cuda.is_available():\n",
    "    device = torch.device('cuda')\n",
    "    print('GPU is available')\n",
    "    # Get the name of the GPU\n",
    "    print('GPU Device Name:', torch.cuda.get_device_name(0)) # Change the device index if you have multiple GPUs\n",
    "else:\n",
    "    device = torch.device('cpu')\n",
    "    print('GPU not available, using CPU instead')\n",
    "    \n",
    "print('Selected device:', device)"
   ]
  },
  {
   "cell_type": "markdown",
   "id": "2818d6b2",
   "metadata": {},
   "source": [
    "# Load dataset"
   ]
  },
  {
   "cell_type": "markdown",
   "id": "59af253b",
   "metadata": {},
   "source": [
    "Set training parameters"
   ]
  },
  {
   "cell_type": "code",
   "execution_count": null,
   "id": "c5ed05af",
   "metadata": {},
   "outputs": [],
   "source": [
    "batch_size = 1\n",
    "num_epochs = 10\n",
    "learning_rate = 0.001\n",
    "num_workers = 4 # Number of threads for data loading\n",
    "validation_interval = 1 # Perform validation every n epochs"
   ]
  },
  {
   "cell_type": "markdown",
   "id": "c8ea255f",
   "metadata": {},
   "source": [
    "Create an instance of the dataset"
   ]
  },
  {
   "cell_type": "code",
   "execution_count": null,
   "id": "e7553522",
   "metadata": {},
   "outputs": [],
   "source": [
    "# Define dataset\n",
    "data_dir = '..\\datasets\\JESTER-V1'\n",
    "\n",
    "# Define transformations\n",
    "transform_1 = transforms.Compose([\n",
    "    transforms.ToTensor(),\n",
    "    transforms.Resize((96, 96)),\n",
    "    transforms.Normalize(\n",
    "        mean = [0.485, 0.456, 0.406],\n",
    "        std = [0.229, 0.224, 0.225]\n",
    "    )\n",
    "])\n",
    "\n",
    "transform_2 = transforms.Compose([\n",
    "    transforms.ToTensor(),\n",
    "    transforms.Resize((96, 96)),\n",
    "])\n",
    "\n",
    "transform = transform_2\n",
    "\n",
    "# Create an instance of the dataset\n",
    "train_dataset = JesterV1(\n",
    "    data_dir = data_dir,\n",
    "    num_frames = 30,\n",
    "    transform = transform,\n",
    "    mode = 'train',\n",
    ") # Train dataset\n",
    "val_dataset = JesterV1(\n",
    "    data_dir = data_dir,\n",
    "    num_frames = 30,\n",
    "    transform = transform,\n",
    "    mode = 'val',\n",
    ") # Validation dataset\n",
    "\n",
    "# Create a DataLoader\n",
    "train_loader = DataLoader(train_dataset, batch_size = batch_size, shuffle = True, num_workers = num_workers) # Train data loader\n",
    "val_loader = DataLoader(val_dataset, batch_size = batch_size, shuffle = True, num_workers = num_workers) # Validation data loader"
   ]
  },
  {
   "cell_type": "markdown",
   "id": "fae33c13",
   "metadata": {},
   "source": [
    "Double-check dataset"
   ]
  },
  {
   "cell_type": "code",
   "execution_count": null,
   "id": "ede25589",
   "metadata": {},
   "outputs": [],
   "source": [
    "# Length of DataLoader\n",
    "print(\"Number of batches:\", len(train_loader))\n",
    "# Inspect a batch\n",
    "for frames, labels in train_loader:\n",
    "    print(\"Shape of frames tensor:\", frames.shape)\n",
    "    print(\"Shape of labels tensor:\", labels.shape)\n",
    "    break\n",
    "# Length of Dataset\n",
    "print(\"Number of samples:\", train_dataset.__len__())"
   ]
  },
  {
   "cell_type": "code",
   "execution_count": null,
   "id": "e163f075",
   "metadata": {},
   "outputs": [],
   "source": [
    "# Visualize a batch of frames\n",
    "for frames, labels in train_loader:\n",
    "    print(labels) # Print the labels\n",
    "    # Get the first sample of the batch\n",
    "    batch = frames.permute(0, 2, 1, 3, 4)\n",
    "    images = batch[0]\n",
    "    \n",
    "    # Plot the images\n",
    "    h, w = 0, 0\n",
    "    fig, ax = plt.subplots(6, 6, figsize = (12, 12))\n",
    "    # Transpose the images\n",
    "    images.permute(1, 0, 2, 3)\n",
    "    # Plot the images\n",
    "    for image in images:\n",
    "        ax[h, w].imshow(image.permute(1, 2, 0)) # Transpose the image to (H, W, C)\n",
    "        ax[h, w].axis('off')\n",
    "        w += 1\n",
    "        if w == 6:\n",
    "            h += 1\n",
    "            w = 0\n",
    "    remain = 36 - images.shape[0]\n",
    "    # Remove the remaining axes\n",
    "    for i in range(remain):\n",
    "        ax[h, w].axis('off')\n",
    "        w += 1\n",
    "        if w == 6:\n",
    "            h += 1\n",
    "            w = 0\n",
    "    # Display the plot\n",
    "    plt.show()\n",
    "    \n",
    "    break"
   ]
  },
  {
   "cell_type": "markdown",
   "metadata": {},
   "source": [
    "# Plot logs"
   ]
  },
  {
   "cell_type": "code",
   "execution_count": null,
   "metadata": {},
   "outputs": [],
   "source": [
    "# Read the logs file\n",
    "path = 'logs/r3d-18_0-mp.csv'\n",
    "logs = pd.read_csv(path)\n",
    "\n",
    "# Extract the columns\n",
    "epochs = logs['epochs']\n",
    "train_loss = logs['train_loss']\n",
    "train_acc = logs['train_acc']\n",
    "val_acc = logs['val_acc']"
   ]
  },
  {
   "cell_type": "markdown",
   "metadata": {},
   "source": [
    "Plot train_loss"
   ]
  },
  {
   "cell_type": "code",
   "execution_count": null,
   "metadata": {},
   "outputs": [],
   "source": [
    "# Plot the training loss\n",
    "plt.figure(figsize = (12, 6))\n",
    "plt.plot(epochs, train_loss, label = 'Train Loss', color = 'red')\n",
    "plt.title('Train Loss')\n",
    "plt.xlabel('Epochs')\n",
    "plt.ylabel('Loss')\n",
    "plt.legend()\n",
    "# Save the plot\n",
    "plt.savefig('plots/train_loss.png')\n",
    "plt.show()"
   ]
  },
  {
   "cell_type": "markdown",
   "metadata": {},
   "source": [
    "Plot train_acc"
   ]
  },
  {
   "cell_type": "code",
   "execution_count": null,
   "metadata": {},
   "outputs": [],
   "source": [
    "# Plot the training accuracy\n",
    "plt.figure(figsize = (12, 6))\n",
    "plt.plot(epochs, train_acc, label = 'Train Accuracy', color = 'green')\n",
    "plt.title('Train Accuracy')\n",
    "plt.xlabel('Epochs')\n",
    "plt.ylabel('Accuracy')\n",
    "plt.legend()\n",
    "# Save the plot\n",
    "plt.savefig('plots/train_acc.png')\n",
    "plt.show()"
   ]
  },
  {
   "cell_type": "markdown",
   "metadata": {},
   "source": [
    "Plot val_acc"
   ]
  },
  {
   "cell_type": "code",
   "execution_count": null,
   "metadata": {},
   "outputs": [],
   "source": [
    "# Plot the training loss\n",
    "plt.figure(figsize = (12, 6))\n",
    "plt.plot(epochs, val_acc, label = 'Validation Accuracy', color = 'blue')\n",
    "plt.title('Validation Accuracy')\n",
    "plt.xlabel('Epochs')\n",
    "plt.ylabel('Accuracy')\n",
    "plt.legend()\n",
    "# Save the plot\n",
    "plt.savefig('plots/val_acc.png')\n",
    "plt.show()"
   ]
  }
 ],
 "metadata": {
  "kernelspec": {
   "display_name": "Python 3 (ipykernel)",
   "language": "python",
   "name": "python3"
  },
  "language_info": {
   "codemirror_mode": {
    "name": "ipython",
    "version": 3
   },
   "file_extension": ".py",
   "mimetype": "text/x-python",
   "name": "python",
   "nbconvert_exporter": "python",
   "pygments_lexer": "ipython3",
   "version": "3.11.3"
  }
 },
 "nbformat": 4,
 "nbformat_minor": 5
}
