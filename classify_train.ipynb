{
 "cells": [
  {
   "cell_type": "markdown",
   "id": "79521f59",
   "metadata": {},
   "source": [
    "# Import libraries"
   ]
  },
  {
   "cell_type": "code",
   "execution_count": null,
   "id": "a16daaa6",
   "metadata": {},
   "outputs": [],
   "source": [
    "import matplotlib.pyplot as plt\n",
    "\n",
    "import torch\n",
    "import torch.nn as nn\n",
    "import torch.optim as optim\n",
    "import torch.nn.functional as F\n",
    "from torch.utils.data import DataLoader\n",
    "from torchvision import transforms\n",
    "\n",
    "from data_loader import JesterV1\n",
    "from network.R3D import R3D\n",
    "\n",
    "import warnings\n",
    "warnings.filterwarnings('ignore', message = 'The default value of the antialias parameter of all the resizing transforms*')"
   ]
  },
  {
   "cell_type": "code",
   "execution_count": null,
   "id": "0d3849f5",
   "metadata": {},
   "outputs": [],
   "source": [
    "# Check for GPU availability\n",
    "if torch.cuda.is_available():\n",
    "    device = torch.device('cuda')\n",
    "    print('GPU is available')\n",
    "    # Get the name of the GPU\n",
    "    print('GPU Device Name:', torch.cuda.get_device_name(0)) # Change the device index if you have multiple GPUs\n",
    "else:\n",
    "    device = torch.device('cpu')\n",
    "    print('GPU not available, using CPU instead')\n",
    "    \n",
    "print('Selected device:', device)"
   ]
  },
  {
   "cell_type": "markdown",
   "id": "2818d6b2",
   "metadata": {},
   "source": [
    "# Load dataset"
   ]
  },
  {
   "cell_type": "markdown",
   "id": "59af253b",
   "metadata": {},
   "source": [
    "Set training parameters"
   ]
  },
  {
   "cell_type": "code",
   "execution_count": null,
   "id": "c5ed05af",
   "metadata": {},
   "outputs": [],
   "source": [
    "batch_size = 8\n",
    "num_epochs = 10\n",
    "learning_rate = 0.001\n",
    "num_workers = 4 # Number of threads for data loading\n",
    "validation_interval = 1 # Perform validation every n epochs"
   ]
  },
  {
   "cell_type": "markdown",
   "id": "c8ea255f",
   "metadata": {},
   "source": [
    "Create an instance of the dataset"
   ]
  },
  {
   "cell_type": "code",
   "execution_count": null,
   "id": "e7553522",
   "metadata": {},
   "outputs": [],
   "source": [
    "# Define dataset\n",
    "data_dir = '..\\datasets\\JESTER-V1'\n",
    "\n",
    "# Define transformations\n",
    "transform = transforms.Compose([\n",
    "    transforms.ToTensor(),\n",
    "    transforms.Resize((96, 96)),\n",
    "    transforms.Normalize(\n",
    "        mean = [0.485, 0.456, 0.406],\n",
    "        std = [0.229, 0.224, 0.225]\n",
    "    )\n",
    "])\n",
    "\n",
    "# Create an instance of the dataset\n",
    "train_dataset = JesterV1(\n",
    "    data_dir = data_dir,\n",
    "    num_frames = 30,\n",
    "    transform = transform,\n",
    "    mode = 'train'\n",
    ") # Train dataset\n",
    "val_dataset = JesterV1(\n",
    "    data_dir = data_dir,\n",
    "    num_frames = 30,\n",
    "    transform = transform,\n",
    "    mode = 'val'\n",
    ") # Validation dataset\n",
    "\n",
    "# Create a DataLoader\n",
    "train_loader = DataLoader(train_dataset, batch_size = batch_size, shuffle = True, num_workers = num_workers) # Train data loader\n",
    "val_loader = DataLoader(val_dataset, batch_size = batch_size, shuffle = True, num_workers = num_workers) # Validation data loader"
   ]
  },
  {
   "cell_type": "markdown",
   "id": "fae33c13",
   "metadata": {},
   "source": [
    "Double-check dataset"
   ]
  },
  {
   "cell_type": "code",
   "execution_count": null,
   "id": "ede25589",
   "metadata": {},
   "outputs": [],
   "source": [
    "# Length of DataLoader\n",
    "print(\"Number of batches:\", len(train_loader))\n",
    "# Inspect a batch\n",
    "for frames, labels in train_loader:\n",
    "    print(\"Shape of frames tensor:\", frames.shape)\n",
    "    print(\"Shape of labels tensor:\", labels.shape)\n",
    "    break\n",
    "# Length of Dataset\n",
    "print(\"Number of samples:\", train_dataset.__len__())"
   ]
  },
  {
   "cell_type": "code",
   "execution_count": null,
   "id": "e163f075",
   "metadata": {},
   "outputs": [],
   "source": [
    "# Visualize a batch of frames\n",
    "for frames, labels in train_loader:\n",
    "    # Get the first sample of the batch\n",
    "    batch = frames.permute(0, 2, 1, 3, 4)\n",
    "    images = batch[0]\n",
    "    \n",
    "    # Plot the images\n",
    "    h, w = 0, 0\n",
    "    fig, ax = plt.subplots(6, 6, figsize = (12, 12))\n",
    "    # Transpose the images\n",
    "    images.permute(1, 0, 2, 3)\n",
    "    # Plot the images\n",
    "    for image in images:\n",
    "        ax[h, w].imshow(image.permute(1, 2, 0)) # Transpose the image to (H, W, C)\n",
    "        ax[h, w].axis('off')\n",
    "        w += 1\n",
    "        if w == 6:\n",
    "            h += 1\n",
    "            w = 0\n",
    "    remain = 36 - images.shape[0]\n",
    "    # Remove the remaining axes\n",
    "    for i in range(remain):\n",
    "        ax[h, w].axis('off')\n",
    "        w += 1\n",
    "        if w == 6:\n",
    "            h += 1\n",
    "            w = 0\n",
    "    # Display the plot\n",
    "    plt.show()\n",
    "    \n",
    "    break"
   ]
  },
  {
   "cell_type": "markdown",
   "id": "9378147c",
   "metadata": {},
   "source": [
    "# Define models"
   ]
  },
  {
   "cell_type": "markdown",
   "id": "f450ea32",
   "metadata": {},
   "source": [
    "### R3D"
   ]
  },
  {
   "cell_type": "code",
   "execution_count": null,
   "id": "36743d38",
   "metadata": {},
   "outputs": [],
   "source": [
    "model = R3D(\n",
    "    50,\n",
    "    n_input_channels = 3,\n",
    "    conv1_t_size = 7,\n",
    "    conv1_t_stride = 1,\n",
    "    no_max_pool = False,\n",
    "    widen_factor = 1.0,\n",
    "    n_classes = 28\n",
    ").to(device)"
   ]
  },
  {
   "cell_type": "code",
   "execution_count": null,
   "id": "71a72f4b",
   "metadata": {},
   "outputs": [],
   "source": [
    "print(model)"
   ]
  },
  {
   "cell_type": "markdown",
   "id": "4d0e9534",
   "metadata": {},
   "source": [
    "# Start training"
   ]
  },
  {
   "cell_type": "markdown",
   "id": "3cb98670",
   "metadata": {},
   "source": [
    "Define loss and optimizer"
   ]
  },
  {
   "cell_type": "code",
   "execution_count": null,
   "id": "d79bcd4b",
   "metadata": {},
   "outputs": [],
   "source": [
    "criterion = nn.CrossEntropyLoss()\n",
    "optimizer = optim.Adam(model.parameters(), lr = learning_rate)"
   ]
  },
  {
   "cell_type": "markdown",
   "id": "c267d156",
   "metadata": {},
   "source": [
    "Training loop"
   ]
  },
  {
   "cell_type": "code",
   "execution_count": null,
   "id": "595b9a0d",
   "metadata": {},
   "outputs": [],
   "source": [
    "for epoch in range(num_epochs):\n",
    "    # Set the model to train mode\n",
    "    model.train()\n",
    "    total_loss = 0.0 # Total loss for the epoch\n",
    "    # Iterate over the train_loader\n",
    "    for frames, labels in train_loader:\n",
    "        # Move the frames and labels to device\n",
    "        frames, labels = frames.to(device), labels.to(device)\n",
    "        # Zero the parameter gradients\n",
    "        optimizer.zero_grad()\n",
    "        # Forward pass\n",
    "        outputs = model(frames)\n",
    "        # Calculate the loss\n",
    "        loss = criterion(outputs, labels)\n",
    "        # Backward pass\n",
    "        loss.backward()\n",
    "        # Update the parameters\n",
    "        optimizer.step()\n",
    "        # Add the loss to the total loss\n",
    "        total_loss += loss.item()\n",
    "    # Calculate the average loss\n",
    "    average_loss = total_loss / len(train_loader)\n",
    "    print(f\"Epoch [{epoch + 1} / {num_epochs}] - Train Loss: {average_loss:.4f}\")\n",
    "    \n",
    "    # Perform validation every <validation_interval> epochs\n",
    "    if (epoch + 1) % validation_interval == 0:\n",
    "        # Set the model to evaluation mode\n",
    "        model.eval()\n",
    "        total_correct = 0\n",
    "        total_samples = 0\n",
    "        \n",
    "        with torch.no_grad():\n",
    "            for frames, labels in val_loader:\n",
    "                # Move the frames and labels to GPU\n",
    "                frames, labels = frames.to(device), labels.to(device)\n",
    "                # Forward pass\n",
    "                outputs = model(frames)\n",
    "                # Get the predictions\n",
    "                _, predictions = torch.max(outputs.data, 1)\n",
    "                # Update the total number of correct predictions\n",
    "                total_correct += (predictions == labels).sum().item()\n",
    "                # Update the total number of samples\n",
    "                total_samples += predictions.shape[0]\n",
    "        # Calculate validation accuracy\n",
    "        validation_accuracy = total_correct / total_samples\n",
    "        print(f\"Validation Accuracy after {epoch + 1} epochs: {validation_accuracy:.2f}%\")\n",
    "        \n",
    "# Save the model\n",
    "torch.save(model.state_dict(), 'model/classify/r3d-50_10.pth')"
   ]
  }
 ],
 "metadata": {
  "kernelspec": {
   "display_name": "Python 3 (ipykernel)",
   "language": "python",
   "name": "python3"
  },
  "language_info": {
   "codemirror_mode": {
    "name": "ipython",
    "version": 3
   },
   "file_extension": ".py",
   "mimetype": "text/x-python",
   "name": "python",
   "nbconvert_exporter": "python",
   "pygments_lexer": "ipython3",
   "version": "3.11.3"
  }
 },
 "nbformat": 4,
 "nbformat_minor": 5
}
